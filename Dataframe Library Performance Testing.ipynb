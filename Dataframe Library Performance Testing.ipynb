{
 "cells": [
  {
   "cell_type": "code",
   "execution_count": 35,
   "metadata": {},
   "outputs": [],
   "source": [
    "import numpy as np\n",
    "import pandas as pd\n",
    "import os\n",
    "import polars as pl\n",
    "\n",
    "pd.options.display.max_rows = 100\n",
    "pd.options.display.max_columns = 100"
   ]
  },
  {
   "cell_type": "code",
   "execution_count": 5,
   "metadata": {},
   "outputs": [],
   "source": [
    "path = r'C:\\Users\\devenv\\Downloads\\WomensRightsResearcherFormat_202302_csv'"
   ]
  },
  {
   "cell_type": "code",
   "execution_count": 7,
   "metadata": {},
   "outputs": [
    {
     "data": {
      "text/plain": [
       "['british_library_catalogue_dataset_tc.pdf',\n",
       " 'classification.csv',\n",
       " 'names.csv',\n",
       " \"Readme - Women's Rights.txt\",\n",
       " 'records.csv',\n",
       " 'titles.csv',\n",
       " 'topics.csv']"
      ]
     },
     "execution_count": 7,
     "metadata": {},
     "output_type": "execute_result"
    }
   ],
   "source": [
    "files = os.listdir(path)\n",
    "files"
   ]
  },
  {
   "cell_type": "code",
   "execution_count": 31,
   "metadata": {},
   "outputs": [],
   "source": [
    "dfPdTopics = pd.read_csv(os.path.join(path, files[6]))"
   ]
  },
  {
   "cell_type": "code",
   "execution_count": 14,
   "metadata": {},
   "outputs": [
    {
     "data": {
      "text/plain": [
       "(103455, 28)"
      ]
     },
     "execution_count": 14,
     "metadata": {},
     "output_type": "execute_result"
    }
   ],
   "source": [
    "dfPdTopics.shape"
   ]
  },
  {
   "cell_type": "code",
   "execution_count": 32,
   "metadata": {},
   "outputs": [
    {
     "data": {
      "text/plain": [
       "Index(['Topic', 'Type of topic', 'BL record ID', 'Type of resource',\n",
       "       'Content type', 'Material type', 'BNB number', 'ISBN', 'Name',\n",
       "       'Dates associated with name', 'Type of name', 'Role', 'All names',\n",
       "       'Title', 'Variant titles', 'Series title', 'Number within series',\n",
       "       'Country of publication', 'Place of publication', 'Publisher',\n",
       "       'Date of publication', 'Edition', 'Physical description',\n",
       "       'Dewey classification', 'BL shelfmark', 'Genre', 'Languages', 'Notes'],\n",
       "      dtype='object')"
      ]
     },
     "execution_count": 32,
     "metadata": {},
     "output_type": "execute_result"
    }
   ],
   "source": [
    "dfPdTopics.columns"
   ]
  },
  {
   "cell_type": "code",
   "execution_count": 33,
   "metadata": {},
   "outputs": [
    {
     "data": {
      "text/plain": [
       "Languages\n",
       "English                       80941\n",
       "Spanish                        4775\n",
       "French                         3298\n",
       "German                         3295\n",
       "Arabic                          995\n",
       "                              ...  \n",
       "Arabic ; Malay                    2\n",
       "Arabic ; Bengali                  1\n",
       "German ; Sanskrit                 1\n",
       "English ; Kazakh ; Russian        1\n",
       "Yiddish                           1\n",
       "Name: Topic, Length: 218, dtype: int64"
      ]
     },
     "execution_count": 33,
     "metadata": {},
     "output_type": "execute_result"
    }
   ],
   "source": [
    "dfPdTopics.groupby('Languages')['Topic'].count().sort_values(ascending=False)"
   ]
  },
  {
   "cell_type": "code",
   "execution_count": 36,
   "metadata": {},
   "outputs": [],
   "source": [
    "dfPlTopics = pl.read_csv(os.path.join(path, files[6]))"
   ]
  },
  {
   "cell_type": "code",
   "execution_count": 37,
   "metadata": {},
   "outputs": [
    {
     "data": {
      "text/plain": [
       "(103455, 28)"
      ]
     },
     "execution_count": 37,
     "metadata": {},
     "output_type": "execute_result"
    }
   ],
   "source": [
    "dfPlTopics.shape"
   ]
  },
  {
   "cell_type": "code",
   "execution_count": 38,
   "metadata": {},
   "outputs": [
    {
     "data": {
      "text/plain": [
       "['Topic',\n",
       " 'Type of topic',\n",
       " 'BL record ID',\n",
       " 'Type of resource',\n",
       " 'Content type',\n",
       " 'Material type',\n",
       " 'BNB number',\n",
       " 'ISBN',\n",
       " 'Name',\n",
       " 'Dates associated with name',\n",
       " 'Type of name',\n",
       " 'Role',\n",
       " 'All names',\n",
       " 'Title',\n",
       " 'Variant titles',\n",
       " 'Series title',\n",
       " 'Number within series',\n",
       " 'Country of publication',\n",
       " 'Place of publication',\n",
       " 'Publisher',\n",
       " 'Date of publication',\n",
       " 'Edition',\n",
       " 'Physical description',\n",
       " 'Dewey classification',\n",
       " 'BL shelfmark',\n",
       " 'Genre',\n",
       " 'Languages',\n",
       " 'Notes']"
      ]
     },
     "execution_count": 38,
     "metadata": {},
     "output_type": "execute_result"
    }
   ],
   "source": [
    "dfPlTopics.columns"
   ]
  },
  {
   "cell_type": "code",
   "execution_count": 57,
   "metadata": {},
   "outputs": [
    {
     "data": {
      "text/html": [
       "<div>\n",
       "<style>\n",
       ".pl-dataframe > thead > tr > th {\n",
       "  text-align: right;\n",
       "}\n",
       "</style>\n",
       "\n",
       "<table border=\"1\" class=\"pl-dataframe\">\n",
       "<small>shape: (219, 2)</small>\n",
       "<thead>\n",
       "<tr>\n",
       "<th>\n",
       "Languages\n",
       "</th>\n",
       "<th>\n",
       "count\n",
       "</th>\n",
       "</tr>\n",
       "<tr>\n",
       "<td>\n",
       "str\n",
       "</td>\n",
       "<td>\n",
       "u32\n",
       "</td>\n",
       "</tr>\n",
       "</thead>\n",
       "<tbody>\n",
       "<tr>\n",
       "<td>\n",
       "&quot;English&quot;\n",
       "</td>\n",
       "<td>\n",
       "80941\n",
       "</td>\n",
       "</tr>\n",
       "<tr>\n",
       "<td>\n",
       "&quot;Spanish&quot;\n",
       "</td>\n",
       "<td>\n",
       "4775\n",
       "</td>\n",
       "</tr>\n",
       "<tr>\n",
       "<td>\n",
       "&quot;French&quot;\n",
       "</td>\n",
       "<td>\n",
       "3298\n",
       "</td>\n",
       "</tr>\n",
       "<tr>\n",
       "<td>\n",
       "&quot;German&quot;\n",
       "</td>\n",
       "<td>\n",
       "3295\n",
       "</td>\n",
       "</tr>\n",
       "<tr>\n",
       "<td>\n",
       "&quot;Arabic&quot;\n",
       "</td>\n",
       "<td>\n",
       "995\n",
       "</td>\n",
       "</tr>\n",
       "<tr>\n",
       "<td>\n",
       "&quot;Portuguese&quot;\n",
       "</td>\n",
       "<td>\n",
       "843\n",
       "</td>\n",
       "</tr>\n",
       "<tr>\n",
       "<td>\n",
       "&quot;Russian&quot;\n",
       "</td>\n",
       "<td>\n",
       "687\n",
       "</td>\n",
       "</tr>\n",
       "<tr>\n",
       "<td>\n",
       "&quot;Swedish&quot;\n",
       "</td>\n",
       "<td>\n",
       "624\n",
       "</td>\n",
       "</tr>\n",
       "<tr>\n",
       "<td>\n",
       "&quot;Polish&quot;\n",
       "</td>\n",
       "<td>\n",
       "589\n",
       "</td>\n",
       "</tr>\n",
       "<tr>\n",
       "<td>\n",
       "&quot;Italian&quot;\n",
       "</td>\n",
       "<td>\n",
       "549\n",
       "</td>\n",
       "</tr>\n",
       "<tr>\n",
       "<td>\n",
       "&quot;English ; Germ...\n",
       "</td>\n",
       "<td>\n",
       "424\n",
       "</td>\n",
       "</tr>\n",
       "<tr>\n",
       "<td>\n",
       "&quot;English ; Swed...\n",
       "</td>\n",
       "<td>\n",
       "362\n",
       "</td>\n",
       "</tr>\n",
       "<tr>\n",
       "<td>\n",
       "...\n",
       "</td>\n",
       "<td>\n",
       "...\n",
       "</td>\n",
       "</tr>\n",
       "<tr>\n",
       "<td>\n",
       "&quot;Punjabi&quot;\n",
       "</td>\n",
       "<td>\n",
       "2\n",
       "</td>\n",
       "</tr>\n",
       "<tr>\n",
       "<td>\n",
       "&quot;Russian ; Ukra...\n",
       "</td>\n",
       "<td>\n",
       "2\n",
       "</td>\n",
       "</tr>\n",
       "<tr>\n",
       "<td>\n",
       "&quot;Bengali ; Sans...\n",
       "</td>\n",
       "<td>\n",
       "2\n",
       "</td>\n",
       "</tr>\n",
       "<tr>\n",
       "<td>\n",
       "&quot;Kinyarwanda&quot;\n",
       "</td>\n",
       "<td>\n",
       "2\n",
       "</td>\n",
       "</tr>\n",
       "<tr>\n",
       "<td>\n",
       "&quot;Macedonian&quot;\n",
       "</td>\n",
       "<td>\n",
       "2\n",
       "</td>\n",
       "</tr>\n",
       "<tr>\n",
       "<td>\n",
       "&quot;Oriya&quot;\n",
       "</td>\n",
       "<td>\n",
       "2\n",
       "</td>\n",
       "</tr>\n",
       "<tr>\n",
       "<td>\n",
       "&quot;French ; Vietn...\n",
       "</td>\n",
       "<td>\n",
       "2\n",
       "</td>\n",
       "</tr>\n",
       "<tr>\n",
       "<td>\n",
       "&quot;Kazakh&quot;\n",
       "</td>\n",
       "<td>\n",
       "2\n",
       "</td>\n",
       "</tr>\n",
       "<tr>\n",
       "<td>\n",
       "&quot;Arabic ; Benga...\n",
       "</td>\n",
       "<td>\n",
       "1\n",
       "</td>\n",
       "</tr>\n",
       "<tr>\n",
       "<td>\n",
       "&quot;Yiddish&quot;\n",
       "</td>\n",
       "<td>\n",
       "1\n",
       "</td>\n",
       "</tr>\n",
       "<tr>\n",
       "<td>\n",
       "&quot;German ; Sansk...\n",
       "</td>\n",
       "<td>\n",
       "1\n",
       "</td>\n",
       "</tr>\n",
       "<tr>\n",
       "<td>\n",
       "&quot;English ; Kaza...\n",
       "</td>\n",
       "<td>\n",
       "1\n",
       "</td>\n",
       "</tr>\n",
       "</tbody>\n",
       "</table>\n",
       "</div>"
      ],
      "text/plain": [
       "shape: (219, 2)\n",
       "┌────────────────────────────┬───────┐\n",
       "│ Languages                  ┆ count │\n",
       "│ ---                        ┆ ---   │\n",
       "│ str                        ┆ u32   │\n",
       "╞════════════════════════════╪═══════╡\n",
       "│ English                    ┆ 80941 │\n",
       "│ Spanish                    ┆ 4775  │\n",
       "│ French                     ┆ 3298  │\n",
       "│ German                     ┆ 3295  │\n",
       "│ ...                        ┆ ...   │\n",
       "│ Arabic ; Bengali           ┆ 1     │\n",
       "│ Yiddish                    ┆ 1     │\n",
       "│ German ; Sanskrit          ┆ 1     │\n",
       "│ English ; Kazakh ; Russian ┆ 1     │\n",
       "└────────────────────────────┴───────┘"
      ]
     },
     "execution_count": 57,
     "metadata": {},
     "output_type": "execute_result"
    }
   ],
   "source": [
    "dfPlTopics.groupby('Languages').count().sort(by='count', reverse=True)"
   ]
  },
  {
   "cell_type": "code",
   "execution_count": 58,
   "metadata": {},
   "outputs": [
    {
     "name": "stdout",
     "output_type": "stream",
     "text": [
      "11.4 ms ± 207 µs per loop (mean ± std. dev. of 7 runs, 100 loops each)\n"
     ]
    }
   ],
   "source": [
    "%timeit dfPdTopics.groupby('Languages')['Topic'].count().sort_values(ascending=False)"
   ]
  },
  {
   "cell_type": "code",
   "execution_count": 59,
   "metadata": {},
   "outputs": [
    {
     "name": "stdout",
     "output_type": "stream",
     "text": [
      "1.23 ms ± 20.8 µs per loop (mean ± std. dev. of 7 runs, 1000 loops each)\n"
     ]
    }
   ],
   "source": [
    "%timeit dfPlTopics.groupby('Languages').count().sort(by='count', reverse=True)"
   ]
  },
  {
   "cell_type": "code",
   "execution_count": null,
   "metadata": {},
   "outputs": [],
   "source": []
  }
 ],
 "metadata": {
  "kernelspec": {
   "display_name": "base",
   "language": "python",
   "name": "python3"
  },
  "language_info": {
   "codemirror_mode": {
    "name": "ipython",
    "version": 3
   },
   "file_extension": ".py",
   "mimetype": "text/x-python",
   "name": "python",
   "nbconvert_exporter": "python",
   "pygments_lexer": "ipython3",
   "version": "3.7.3"
  },
  "orig_nbformat": 4,
  "vscode": {
   "interpreter": {
    "hash": "165105423189813b728e25d2fd1994f7a3b630fd622bd243c8f5d69438ba1ffa"
   }
  }
 },
 "nbformat": 4,
 "nbformat_minor": 2
}
